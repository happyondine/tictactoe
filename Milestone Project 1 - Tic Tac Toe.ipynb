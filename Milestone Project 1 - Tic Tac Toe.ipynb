{
 "cells": [
  {
   "cell_type": "markdown",
   "metadata": {
    "scrolled": true
   },
   "source": [
    "# Functions\n",
    "    "
   ]
  },
  {
   "cell_type": "code",
   "execution_count": 3,
   "metadata": {},
   "outputs": [],
   "source": [
    "def display_board(board):\n",
    "    \n",
    "    board='{0}|{1}|{2}\\n- - -\\n{3}|{4}|{5}\\n- - -\\n{6}|{7}|{8}'\n",
    "    \n",
    "    print(board.format(real_board[0],real_board[1],real_board[2],real_board[3],real_board[4],real_board[5],real_board[6],real_board[7],real_board[8]))\n"
   ]
  },
  {
   "cell_type": "code",
   "execution_count": 4,
   "metadata": {},
   "outputs": [],
   "source": [
    "\n",
    "def player_input():  \n",
    "        player1=''             \n",
    "        while True:\n",
    "            player1 = input(\"Please pick 'X' : \\n \")          \n",
    "            if player1=='x' or player1=='X':\n",
    "                break   "
   ]
  },
  {
   "cell_type": "code",
   "execution_count": 5,
   "metadata": {},
   "outputs": [],
   "source": [
    "def player_input2():  \n",
    "        player2=''             \n",
    "        while True:\n",
    "            player2 = input(\"Please pick 'O' : \\n \")          \n",
    "            if player2=='O' or player2=='o':\n",
    "                break                \n",
    "            else:\n",
    "                continue"
   ]
  },
  {
   "cell_type": "code",
   "execution_count": 6,
   "metadata": {},
   "outputs": [],
   "source": [
    "def place_marker(test_board, marker, position):\n",
    "    \n",
    "    test_board[position-1]=marker\n",
    "    return test_board"
   ]
  },
  {
   "cell_type": "code",
   "execution_count": 7,
   "metadata": {},
   "outputs": [],
   "source": [
    "def win_check(board, mark):\n",
    "    \n",
    "    if (board[0]==board[1]==board[2]==mark) or (board[3]==board[4]==board[5]==mark) or (board[6]==board[7]==board[8]==mark) or (board[0]==board[3]==board[6]==mark) or (board[1]==board[4]==board[7]==mark) or (board[2]==board[5]==board[8]==mark) or (board[0]==board[4]==board[8]==mark) or (board[2]==board[4]== board[6]==mark):\n",
    "         return True\n",
    "  "
   ]
  },
  {
   "cell_type": "code",
   "execution_count": 8,
   "metadata": {},
   "outputs": [],
   "source": [
    "import random\n",
    "\n",
    "def choose_first():\n",
    "    \n",
    "    x=random.randint(1,2) \n",
    "    #print('player%s'%x)\n",
    "    \n",
    "    \n",
    "    player='player{}'.format(x)\n",
    "    print(player)\n",
    "    return player"
   ]
  },
  {
   "cell_type": "code",
   "execution_count": 9,
   "metadata": {},
   "outputs": [],
   "source": [
    "def space_check(test_board, position):\n",
    "    \n",
    "    if test_board[position-1]==\" \":\n",
    "        return True\n",
    "    else:\n",
    "        return False\n",
    "        "
   ]
  },
  {
   "cell_type": "code",
   "execution_count": 10,
   "metadata": {},
   "outputs": [],
   "source": [
    "def full_board_check(board):\n",
    "     \n",
    "    y=True   \n",
    "    for x in board:\n",
    "        if x==' ':\n",
    "            y=False\n",
    "\n",
    "    return y         \n",
    "       \n",
    "     "
   ]
  },
  {
   "cell_type": "code",
   "execution_count": 11,
   "metadata": {},
   "outputs": [],
   "source": [
    "def player_choice(test_board):\n",
    "    \n",
    "    position = 1\n",
    "    \n",
    "    while True:\n",
    "        position = int(input('Please enter a number:\\n'))\n",
    "        \n",
    "        space=space_check(test_board, position)\n",
    "        if space==True:\n",
    "            return position\n",
    "            break\n",
    "        \n",
    "        "
   ]
  },
  {
   "cell_type": "code",
   "execution_count": 12,
   "metadata": {},
   "outputs": [],
   "source": [
    "def replay():\n",
    "    \n",
    "            player=input(\"do you want to play again? press 't' if yes. \")\n",
    "            if player==\"t\":\n",
    "                print('game will restart')\n",
    "                return True\n",
    "            else:\n",
    "                print('no replay')\n",
    "            "
   ]
  },
  {
   "cell_type": "code",
   "execution_count": null,
   "metadata": {},
   "outputs": [],
   "source": []
  },
  {
   "cell_type": "code",
   "execution_count": null,
   "metadata": {},
   "outputs": [],
   "source": []
  },
  {
   "cell_type": "markdown",
   "metadata": {},
   "source": [
    "# The main function"
   ]
  },
  {
   "cell_type": "code",
   "execution_count": null,
   "metadata": {
    "scrolled": true
   },
   "outputs": [],
   "source": [
    "from IPython.display import clear_output\n",
    "import random\n",
    "\n",
    "clear_output()\n",
    "\n",
    "answer='t'\n",
    "while(answer=='t'): \n",
    "        clear_output()\n",
    "        print('Welcome to Tic Tac Toe!')\n",
    "        real_board=[' ',' ',' ',' ',' ',' ',' ',' ',' ']        \n",
    "        display_board(real_board)    \n",
    "    \n",
    "    \n",
    "        #first player random selection\n",
    "        \n",
    "        #Player 1 turn: choose the input mark 'x'\n",
    "        first=choose_first()\n",
    "        \n",
    "        if first=='player1':           \n",
    "            print('you are player 1 ')\n",
    "            mark='x'\n",
    "            player_input()\n",
    "            \n",
    "        # Player2's turn: choose the input  mark 'o'\n",
    "        else:           \n",
    "            print('you are player 2')\n",
    "            mark='o'\n",
    "            player_input2()\n",
    "            \n",
    "        #choose the position\n",
    "        pos= player_choice(real_board)            \n",
    "        pos_int=int(pos)\n",
    "        \n",
    "        first_board=place_marker(real_board,mark,pos_int)\n",
    "       \n",
    "        display_board(first_board)\n",
    "        \n",
    "        \n",
    "        #after first selection, next person plays\n",
    "        \n",
    "        print('next person play\\n')\n",
    "        \n",
    "        while(answer=='t'): #while game_on:                \n",
    "        \n",
    "            #Player 1 Turn\n",
    "            if first=='player1':           \n",
    "                print('you are player 2 put O')\n",
    "                mark='o'\n",
    "                player_input2()\n",
    "                first='player2'\n",
    "                \n",
    "            # Player2's turn.\n",
    "            elif first=='player2':           \n",
    "                mark='x'\n",
    "                print('you are player 1 put X')\n",
    "                player_input()\n",
    "                first='player1'\n",
    "                \n",
    "            #choose the position   \n",
    "            pos= player_choice(real_board)\n",
    "            pos_int=int(pos)\n",
    "            \n",
    "            new_board=place_marker(real_board,mark,pos_int)           \n",
    "            display_board(new_board)\n",
    "            \n",
    "            #win check\n",
    "            win=win_check(new_board, mark)\n",
    "            if win==True:\n",
    "                print('{} Win'.format(mark))\n",
    "                \n",
    "                if not replay():\n",
    "                    answer=''                   \n",
    "                break\n",
    "                \n",
    "            #full check             \n",
    "            full=full_board_check(new_board)\n",
    "            elif full==True:\n",
    "                print(\"full board\")\n",
    "                \n",
    "                if not replay():\n",
    "                    answer=''\n",
    "                break\n",
    "            \n",
    "            \n",
    "print('game over!!!!!!!!')       \n",
    "         "
   ]
  }
 ],
 "metadata": {
  "kernelspec": {
   "display_name": "Python 3",
   "language": "python",
   "name": "python3"
  }
 },
 "nbformat": 4,
 "nbformat_minor": 2
}
